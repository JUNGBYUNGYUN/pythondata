{
 "cells": [
  {
   "cell_type": "code",
   "execution_count": 2,
   "id": "83017d3b-cd5d-450e-9397-8e50867bb13f",
   "metadata": {},
   "outputs": [
    {
     "ename": "TypeError",
     "evalue": "len() takes exactly one argument (0 given)",
     "output_type": "error",
     "traceback": [
      "\u001b[1;31m---------------------------------------------------------------------------\u001b[0m",
      "\u001b[1;31mTypeError\u001b[0m                                 Traceback (most recent call last)",
      "Input \u001b[1;32mIn [2]\u001b[0m, in \u001b[0;36m<cell line: 1>\u001b[1;34m()\u001b[0m\n\u001b[1;32m----> 1\u001b[0m \u001b[38;5;28;43mlen\u001b[39;49m\u001b[43m(\u001b[49m\u001b[43m)\u001b[49m\n",
      "\u001b[1;31mTypeError\u001b[0m: len() takes exactly one argument (0 given)"
     ]
    }
   ],
   "source": [
    "len()"
   ]
  },
  {
   "cell_type": "code",
   "execution_count": 7,
   "id": "4fb3be54-f5d0-4add-bbfb-91b06e3bc198",
   "metadata": {},
   "outputs": [
    {
     "data": {
      "text/plain": [
       "525"
      ]
     },
     "execution_count": 7,
     "metadata": {},
     "output_type": "execute_result"
    }
   ],
   "source": [
    "a=15\n",
    "b=35\n",
    "a*b"
   ]
  },
  {
   "cell_type": "code",
   "execution_count": 10,
   "id": "35c62ee8-81e8-43be-89e2-62b9118e4616",
   "metadata": {},
   "outputs": [
    {
     "data": {
      "text/plain": [
       "17"
      ]
     },
     "execution_count": 10,
     "metadata": {},
     "output_type": "execute_result"
    }
   ],
   "source": [
    "a= 'life is too short'\n",
    "len(a)"
   ]
  },
  {
   "cell_type": "code",
   "execution_count": 1,
   "id": "ec51ca7a-2915-4770-a7a8-a2c8325127d2",
   "metadata": {},
   "outputs": [
    {
     "data": {
      "text/plain": [
       "17"
      ]
     },
     "execution_count": 1,
     "metadata": {},
     "output_type": "execute_result"
    }
   ],
   "source": [
    "a= 'LIFE IS TOO SHORT'\n",
    "len(a)"
   ]
  },
  {
   "cell_type": "markdown",
   "id": "ba3b733c-0bf0-4ef3-9926-a6ed59bcca61",
   "metadata": {},
   "source": [
    "a=1\n",
    "b=2\n",
    "a+b;"
   ]
  },
  {
   "cell_type": "code",
   "execution_count": 3,
   "id": "d46591f9-a2dc-44bf-b6b2-b00bb175e2ef",
   "metadata": {},
   "outputs": [],
   "source": [
    "a=1\n",
    "b=2\n",
    "a+b;"
   ]
  },
  {
   "cell_type": "code",
   "execution_count": 6,
   "id": "46f9aa40-ebb4-46fc-9848-b401f33cfd4f",
   "metadata": {},
   "outputs": [],
   "source": [
    "a=1\n",
    "b=2\n",
    "a+b;"
   ]
  },
  {
   "cell_type": "code",
   "execution_count": 8,
   "id": "0cbf9960-42ce-49d5-a819-f0abb8bd8a05",
   "metadata": {},
   "outputs": [],
   "source": [
    "#주민등록 번호를 입력 받아서 생년월일과 성별을 출력하세요 \n",
    "#3항 연산자를 이용([조건] ? [참 일때] : [거짓일때]) // 파이썬 미지원\n",
    "# [true_value] if [conditio] else [false_value] //파이썬 지원"
   ]
  },
  {
   "cell_type": "code",
   "execution_count": 10,
   "id": "03e6003d-552a-4c1d-bc2e-0e611e5ea028",
   "metadata": {},
   "outputs": [
    {
     "ename": "SyntaxError",
     "evalue": "invalid syntax (2381979967.py, line 2)",
     "output_type": "error",
     "traceback": [
      "\u001b[1;36m  Input \u001b[1;32mIn [10]\u001b[1;36m\u001b[0m\n\u001b[1;33m    jumin[7] ==3 ? \"남자\":\"여자\"\u001b[0m\n\u001b[1;37m                 ^\u001b[0m\n\u001b[1;31mSyntaxError\u001b[0m\u001b[1;31m:\u001b[0m invalid syntax\n"
     ]
    }
   ],
   "source": [
    "jumin='940609-1682015'\n",
    "jumin[7] ==3 ? \"남자\":\"여자\""
   ]
  },
  {
   "cell_type": "code",
   "execution_count": 12,
   "id": "adb16854-fd10-45d9-8235-9e195bad04af",
   "metadata": {},
   "outputs": [
    {
     "name": "stdin",
     "output_type": "stream",
     "text": [
      "주민등록번호 입력 >>> 970609175356\n"
     ]
    },
    {
     "name": "stdout",
     "output_type": "stream",
     "text": [
      "생년월일 970609\n",
      "성별 남자\n"
     ]
    }
   ],
   "source": [
    "jumin = input('주민등록번호 입력 >>>')\n",
    "print('생년월일',jumin[:6])\n",
    "print('성별','남자' if jumin[7]=='3'or'1' else '여자')"
   ]
  },
  {
   "cell_type": "code",
   "execution_count": 30,
   "id": "1a22c4a8-35a5-4557-871f-1e3641724f1d",
   "metadata": {},
   "outputs": [
    {
     "name": "stdin",
     "output_type": "stream",
     "text": [
      "주민등록번호 입력 >>> 000000-_\n"
     ]
    },
    {
     "name": "stdout",
     "output_type": "stream",
     "text": [
      "생년월일 000000\n",
      "성별 _ 여자\n"
     ]
    }
   ],
   "source": [
    "jumin = input('주민등록번호 입력 >>>')\n",
    "print('생년월일',jumin[:6])\n",
    "print('성별', jumin[7], '남자' if jumin[7]=='3' or jumin[7]=='1' else '여자')"
   ]
  },
  {
   "cell_type": "code",
   "execution_count": 32,
   "id": "acbd4fde-22e5-40ba-b64f-375ff0372463",
   "metadata": {},
   "outputs": [
    {
     "ename": "SyntaxError",
     "evalue": "invalid syntax (2053395173.py, line 1)",
     "output_type": "error",
     "traceback": [
      "\u001b[1;36m  Input \u001b[1;32mIn [32]\u001b[1;36m\u001b[0m\n\u001b[1;33m    if jumin[7]== '3' or TRUE\u001b[0m\n\u001b[1;37m                             ^\u001b[0m\n\u001b[1;31mSyntaxError\u001b[0m\u001b[1;31m:\u001b[0m invalid syntax\n"
     ]
    }
   ],
   "source": [
    "if jumin[7]== '3' or TRUE"
   ]
  },
  {
   "cell_type": "code",
   "execution_count": 34,
   "id": "f452065c-0576-43ab-b088-970084548a21",
   "metadata": {},
   "outputs": [
    {
     "data": {
      "text/plain": [
       "'i eat 3 apples.'"
      ]
     },
     "execution_count": 34,
     "metadata": {},
     "output_type": "execute_result"
    }
   ],
   "source": [
    "\"i eat %d apples.\" %3"
   ]
  },
  {
   "cell_type": "code",
   "execution_count": 36,
   "id": "618ae1c2-7b23-4d82-b7ad-97dd5196a1b5",
   "metadata": {},
   "outputs": [
    {
     "data": {
      "text/plain": [
       "'i eat 3 apples. end'"
      ]
     },
     "execution_count": 36,
     "metadata": {},
     "output_type": "execute_result"
    }
   ],
   "source": [
    "\"i eat %d apples. %s\" %(3,\"end\")"
   ]
  },
  {
   "cell_type": "code",
   "execution_count": 39,
   "id": "3e990184-9b81-4808-bab1-d8e8a588d556",
   "metadata": {},
   "outputs": [
    {
     "data": {
      "text/plain": [
       "'i eat321,321.12 apples,.count'"
      ]
     },
     "execution_count": 39,
     "metadata": {},
     "output_type": "execute_result"
    }
   ],
   "source": [
    "'i eat{:^10,.2f} apples,.{}'.format(321321.123456,'count')"
   ]
  },
  {
   "cell_type": "code",
   "execution_count": null,
   "id": "829b7fbc-63c9-44ba-9eca-d47eb17a2b50",
   "metadata": {},
   "outputs": [],
   "source": [
    "name = input('이름을 입력하세요 >>>')\n",
    "age =input ('나이를 입력하세요>>>')\n",
    "print(f'이름은 {name} 이고, 나이는 {age} 살입니다.' .format(name,age))"
   ]
  },
  {
   "cell_type": "code",
   "execution_count": 2,
   "id": "54e6cccd-e7ef-488a-a890-01efbefe42b7",
   "metadata": {},
   "outputs": [
    {
     "data": {
      "text/plain": [
       "14"
      ]
     },
     "execution_count": 2,
     "metadata": {},
     "output_type": "execute_result"
    }
   ],
   "source": [
    "a=\"Python is the bes choice\"\n",
    "a.find('b')"
   ]
  },
  {
   "cell_type": "code",
   "execution_count": 5,
   "id": "1c40f2c8-cc76-43f4-a9c6-f9ce2203bd42",
   "metadata": {},
   "outputs": [
    {
     "data": {
      "text/plain": [
       "-1"
      ]
     },
     "execution_count": 5,
     "metadata": {},
     "output_type": "execute_result"
    }
   ],
   "source": [
    "a.find('k') # 파인드는 글자가 없을경우 -1 리턴 "
   ]
  },
  {
   "cell_type": "code",
   "execution_count": 7,
   "id": "15897ac8-ac70-491d-bbaa-f9f40f5de2c3",
   "metadata": {},
   "outputs": [
    {
     "data": {
      "text/plain": [
       "8"
      ]
     },
     "execution_count": 7,
     "metadata": {},
     "output_type": "execute_result"
    }
   ],
   "source": [
    "a=\"Life is too short\"\n",
    "a.index('t')"
   ]
  },
  {
   "cell_type": "code",
   "execution_count": 9,
   "id": "8e1aa03a-e017-4a4e-b47c-65fe218e095f",
   "metadata": {},
   "outputs": [
    {
     "ename": "ValueError",
     "evalue": "substring not found",
     "output_type": "error",
     "traceback": [
      "\u001b[1;31m---------------------------------------------------------------------------\u001b[0m",
      "\u001b[1;31mValueError\u001b[0m                                Traceback (most recent call last)",
      "Input \u001b[1;32mIn [9]\u001b[0m, in \u001b[0;36m<cell line: 1>\u001b[1;34m()\u001b[0m\n\u001b[1;32m----> 1\u001b[0m \u001b[43ma\u001b[49m\u001b[38;5;241;43m.\u001b[39;49m\u001b[43mindex\u001b[49m\u001b[43m(\u001b[49m\u001b[38;5;124;43m'\u001b[39;49m\u001b[38;5;124;43mk\u001b[39;49m\u001b[38;5;124;43m'\u001b[39;49m\u001b[43m)\u001b[49m\n",
      "\u001b[1;31mValueError\u001b[0m: substring not found"
     ]
    }
   ],
   "source": [
    "a.index('k') # 인덱스는 없을경우 오류"
   ]
  },
  {
   "cell_type": "code",
   "execution_count": 11,
   "id": "7e9d1eb6-f941-499a-978c-eed03dd0339e",
   "metadata": {},
   "outputs": [
    {
     "data": {
      "text/plain": [
       "'a,b,c,d'"
      ]
     },
     "execution_count": 11,
     "metadata": {},
     "output_type": "execute_result"
    }
   ],
   "source": [
    "','.join('abcd')"
   ]
  },
  {
   "cell_type": "code",
   "execution_count": 14,
   "id": "c6e7bc01-e2f8-4c83-acff-b69241427951",
   "metadata": {},
   "outputs": [
    {
     "data": {
      "text/plain": [
       "'abc,edf,안ㅕㄴㅇ'"
      ]
     },
     "execution_count": 14,
     "metadata": {},
     "output_type": "execute_result"
    }
   ],
   "source": [
    "','.join(['abc','edf','안ㅕㄴㅇ']                                                                                  )"
   ]
  },
  {
   "cell_type": "code",
   "execution_count": 19,
   "id": "3a3df27f-15f3-4d56-8e88-394b337b9839",
   "metadata": {},
   "outputs": [
    {
     "data": {
      "text/plain": [
       "'Young is too long'"
      ]
     },
     "execution_count": 19,
     "metadata": {},
     "output_type": "execute_result"
    }
   ],
   "source": [
    "a= \"Life is too long\"\n",
    "a.replace(\"Life\",\"Young\")"
   ]
  },
  {
   "cell_type": "code",
   "execution_count": 24,
   "id": "5cf634bf-b495-433d-8554-0328ed63c942",
   "metadata": {},
   "outputs": [
    {
     "data": {
      "text/plain": [
       "['Life', 'is', 'too', 'long']"
      ]
     },
     "execution_count": 24,
     "metadata": {},
     "output_type": "execute_result"
    }
   ],
   "source": [
    "a= \"Life,is,too,long\"\n",
    "a.split(sep=',')"
   ]
  },
  {
   "cell_type": "code",
   "execution_count": 28,
   "id": "d03791aa-e152-4c14-954e-17e3b730cf74",
   "metadata": {},
   "outputs": [
    {
     "ename": "IndentationError",
     "evalue": "unexpected indent (2859418725.py, line 4)",
     "output_type": "error",
     "traceback": [
      "\u001b[1;36m  Input \u001b[1;32mIn [28]\u001b[1;36m\u001b[0m\n\u001b[1;33m    print('----')\u001b[0m\n\u001b[1;37m    ^\u001b[0m\n\u001b[1;31mIndentationError\u001b[0m\u001b[1;31m:\u001b[0m unexpected indent\n"
     ]
    }
   ],
   "source": [
    "money = True\n",
    "if money:\n",
    "    print('taxi')\n",
    "     print('----')# 줄맞기가 안되있으면 오류가 뜸 "
   ]
  },
  {
   "cell_type": "code",
   "execution_count": 31,
   "id": "0287f55f-1dc6-4bdb-a640-42b341e937c1",
   "metadata": {},
   "outputs": [
    {
     "name": "stdout",
     "output_type": "stream",
     "text": [
      "taxi\n",
      "----\n"
     ]
    }
   ],
   "source": [
    "money = True\n",
    "if money:\n",
    "    print('taxi')\n",
    "    print('----') "
   ]
  },
  {
   "cell_type": "code",
   "execution_count": 32,
   "id": "d32324c2-db90-4d7e-81ce-c0fba112592b",
   "metadata": {},
   "outputs": [
    {
     "ename": "NameError",
     "evalue": "name 'false' is not defined",
     "output_type": "error",
     "traceback": [
      "\u001b[1;31m---------------------------------------------------------------------------\u001b[0m",
      "\u001b[1;31mNameError\u001b[0m                                 Traceback (most recent call last)",
      "Input \u001b[1;32mIn [34]\u001b[0m, in \u001b[0;36m<cell line: 1>\u001b[1;34m()\u001b[0m\n\u001b[1;32m----> 1\u001b[0m money \u001b[38;5;241m=\u001b[39m \u001b[43mfalse\u001b[49m\n\u001b[0;32m      2\u001b[0m \u001b[38;5;28;01mif\u001b[39;00m money:\n\u001b[0;32m      3\u001b[0m     \u001b[38;5;28mprint\u001b[39m(\u001b[38;5;124m'\u001b[39m\u001b[38;5;124mtaxi\u001b[39m\u001b[38;5;124m'\u001b[39m)\n",
      "\u001b[1;31mNameError\u001b[0m: name 'false' is not defined"
     ]
    }
   ],
   "source": [
    "money = True\n",
    "if money:\n",
    "    print('taxi')\n",
    "    print('----') \n",
    "elif card:\n",
    "    print('수수료')\n",
    "else:\n",
    "    print('walk')"
   ]
  }
 ],
 "metadata": {
  "kernelspec": {
   "display_name": "Python 3 (ipykernel)",
   "language": "python",
   "name": "python3"
  },
  "language_info": {
   "codemirror_mode": {
    "name": "ipython",
    "version": 3
   },
   "file_extension": ".py",
   "mimetype": "text/x-python",
   "name": "python",
   "nbconvert_exporter": "python",
   "pygments_lexer": "ipython3",
   "version": "3.9.12"
  }
 },
 "nbformat": 4,
 "nbformat_minor": 5
}
