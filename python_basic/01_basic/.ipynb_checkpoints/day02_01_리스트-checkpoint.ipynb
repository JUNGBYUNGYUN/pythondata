{
 "cells": [
  {
   "cell_type": "code",
   "execution_count": 1,
   "id": "1e239968-3467-41fc-93ea-787f5eea3f5a",
   "metadata": {},
   "outputs": [
    {
     "data": {
      "text/plain": [
       "['Life', 'is']"
      ]
     },
     "execution_count": 1,
     "metadata": {},
     "output_type": "execute_result"
    }
   ],
   "source": [
    "a = [1, 2,['Life','is']]\n",
    "a[2]"
   ]
  },
  {
   "cell_type": "code",
   "execution_count": 2,
   "id": "db71fcb0-4f65-47a5-b011-716261979466",
   "metadata": {},
   "outputs": [
    {
     "data": {
      "text/plain": [
       "'life'"
      ]
     },
     "execution_count": 2,
     "metadata": {},
     "output_type": "execute_result"
    }
   ],
   "source": [
    "a = [1, 2,['a','b',['life','is']]]\n",
    "a[2][2][0]"
   ]
  },
  {
   "cell_type": "code",
   "execution_count": 3,
   "id": "9fe9910b-58aa-4a48-8ff0-15000eb919f0",
   "metadata": {},
   "outputs": [],
   "source": [
    "odd = [1, 3, 5, 7, 9]"
   ]
  },
  {
   "cell_type": "code",
   "execution_count": 4,
   "id": "86437b3f-8ee8-415c-acad-ea0264fff4e7",
   "metadata": {},
   "outputs": [
    {
     "data": {
      "text/plain": [
       "[1, 3, 5, 7, 9]"
      ]
     },
     "execution_count": 4,
     "metadata": {},
     "output_type": "execute_result"
    }
   ],
   "source": [
    "odd"
   ]
  },
  {
   "cell_type": "code",
   "execution_count": 5,
   "id": "b0656cc2-b4e2-45ac-87d8-845885891b1b",
   "metadata": {},
   "outputs": [
    {
     "data": {
      "text/plain": [
       "1"
      ]
     },
     "execution_count": 5,
     "metadata": {},
     "output_type": "execute_result"
    }
   ],
   "source": [
    "odd[0]"
   ]
  },
  {
   "cell_type": "code",
   "execution_count": 6,
   "id": "fd4e5c4b-a9d7-483c-935f-ef722c8ff8bf",
   "metadata": {},
   "outputs": [
    {
     "name": "stdout",
     "output_type": "stream",
     "text": [
      "1\n",
      "3\n",
      "5\n",
      "7\n",
      "9\n"
     ]
    }
   ],
   "source": [
    "for i in odd:\n",
    "    print(i)"
   ]
  },
  {
   "cell_type": "code",
   "execution_count": 7,
   "id": "b51ee11f-8718-4af2-81ae-e572492f28e9",
   "metadata": {},
   "outputs": [],
   "source": [
    "a = [1, 2, 3,['a','b','c']]"
   ]
  },
  {
   "cell_type": "code",
   "execution_count": 8,
   "id": "47da12f5-f63c-4ecd-97e0-145ddb035fda",
   "metadata": {},
   "outputs": [
    {
     "data": {
      "text/plain": [
       "'b'"
      ]
     },
     "execution_count": 8,
     "metadata": {},
     "output_type": "execute_result"
    }
   ],
   "source": [
    "a[3][1]"
   ]
  },
  {
   "cell_type": "code",
   "execution_count": 9,
   "id": "f187daa8-0b84-43a0-885b-591949527c12",
   "metadata": {},
   "outputs": [
    {
     "data": {
      "text/plain": [
       "[2, 3]"
      ]
     },
     "execution_count": 9,
     "metadata": {},
     "output_type": "execute_result"
    }
   ],
   "source": [
    "a[1:3]"
   ]
  },
  {
   "cell_type": "code",
   "execution_count": 10,
   "id": "664a239f-f1d0-44b7-8680-2ffba8371e73",
   "metadata": {},
   "outputs": [
    {
     "data": {
      "text/plain": [
       "4"
      ]
     },
     "execution_count": 10,
     "metadata": {},
     "output_type": "execute_result"
    }
   ],
   "source": [
    "len(a)"
   ]
  },
  {
   "cell_type": "code",
   "execution_count": 11,
   "id": "c34f57b8-10e2-4342-b4e8-bb99cd0c8387",
   "metadata": {},
   "outputs": [],
   "source": [
    "a[3]='abc'"
   ]
  },
  {
   "cell_type": "code",
   "execution_count": 12,
   "id": "7723a2f2-ed6b-4f89-8ed9-65c9aa366f65",
   "metadata": {},
   "outputs": [
    {
     "data": {
      "text/plain": [
       "[1, 2, 3, 'abc']"
      ]
     },
     "execution_count": 12,
     "metadata": {},
     "output_type": "execute_result"
    }
   ],
   "source": [
    "a"
   ]
  },
  {
   "cell_type": "code",
   "execution_count": 13,
   "id": "bdd9ea88-685d-45f7-bc9b-a9896c2b7e0f",
   "metadata": {},
   "outputs": [
    {
     "data": {
      "text/plain": [
       "[1, 3, 'abc']"
      ]
     },
     "execution_count": 13,
     "metadata": {},
     "output_type": "execute_result"
    }
   ],
   "source": [
    "del a[1]\n",
    "a"
   ]
  },
  {
   "cell_type": "code",
   "execution_count": 14,
   "id": "15bdf37b-e7a5-4a65-80ba-f6fa5b49e1c2",
   "metadata": {},
   "outputs": [
    {
     "data": {
      "text/plain": [
       "[1, 2, 3, 4]"
      ]
     },
     "execution_count": 14,
     "metadata": {},
     "output_type": "execute_result"
    }
   ],
   "source": [
    "a = [1,4,3,2]\n",
    "a.sort()\n",
    "a"
   ]
  },
  {
   "cell_type": "code",
   "execution_count": 15,
   "id": "cdd5c67f-b46a-4153-b4ea-13703d55f6a2",
   "metadata": {},
   "outputs": [
    {
     "data": {
      "text/plain": [
       "[4, 3, 2, 1]"
      ]
     },
     "execution_count": 15,
     "metadata": {},
     "output_type": "execute_result"
    }
   ],
   "source": [
    "a.sort(reverse=True)\n",
    "a"
   ]
  },
  {
   "cell_type": "code",
   "execution_count": 16,
   "id": "0ef849ca-1c87-461b-95ae-1b8d143ce776",
   "metadata": {},
   "outputs": [
    {
     "data": {
      "text/plain": [
       "[2, 3, 4, 1]"
      ]
     },
     "execution_count": 16,
     "metadata": {},
     "output_type": "execute_result"
    }
   ],
   "source": [
    "a = [1,4,3,2]\n",
    "a.reverse()\n",
    "a"
   ]
  },
  {
   "cell_type": "code",
   "execution_count": 17,
   "id": "b026cabe-eeed-4405-b034-1bcccf9e9c15",
   "metadata": {},
   "outputs": [
    {
     "data": {
      "text/plain": [
       "3"
      ]
     },
     "execution_count": 17,
     "metadata": {},
     "output_type": "execute_result"
    }
   ],
   "source": [
    "a.index(1)"
   ]
  },
  {
   "cell_type": "code",
   "execution_count": 18,
   "id": "3f844666-3f58-49c2-b77b-287e511f8ea1",
   "metadata": {},
   "outputs": [
    {
     "ename": "ValueError",
     "evalue": "0 is not in list",
     "output_type": "error",
     "traceback": [
      "\u001b[1;31m---------------------------------------------------------------------------\u001b[0m",
      "\u001b[1;31mValueError\u001b[0m                                Traceback (most recent call last)",
      "Input \u001b[1;32mIn [18]\u001b[0m, in \u001b[0;36m<cell line: 1>\u001b[1;34m()\u001b[0m\n\u001b[1;32m----> 1\u001b[0m \u001b[43ma\u001b[49m\u001b[38;5;241;43m.\u001b[39;49m\u001b[43mindex\u001b[49m\u001b[43m(\u001b[49m\u001b[38;5;241;43m0\u001b[39;49m\u001b[43m)\u001b[49m\n",
      "\u001b[1;31mValueError\u001b[0m: 0 is not in list"
     ]
    }
   ],
   "source": [
    "a.index(0) #0은 없다"
   ]
  },
  {
   "cell_type": "code",
   "execution_count": null,
   "id": "6c0d19da-5056-4e98-abfe-c3e490c5a7a5",
   "metadata": {},
   "outputs": [],
   "source": [
    "del a[0:2]\n",
    "a"
   ]
  },
  {
   "cell_type": "code",
   "execution_count": null,
   "id": "5d9f38ff-beec-4c90-9fbe-328f79799069",
   "metadata": {},
   "outputs": [],
   "source": [
    "a.insert(0,2)\n",
    "a"
   ]
  },
  {
   "cell_type": "code",
   "execution_count": null,
   "id": "abdb2eed-11da-4cc6-951a-3c61f31c863d",
   "metadata": {},
   "outputs": [],
   "source": [
    "a.insert(0,0)\n",
    "a"
   ]
  },
  {
   "cell_type": "code",
   "execution_count": null,
   "id": "97668a66-4e34-470a-b9d4-298a4845f96a",
   "metadata": {},
   "outputs": [],
   "source": [
    "a.remove(1)\n",
    "a"
   ]
  },
  {
   "cell_type": "code",
   "execution_count": null,
   "id": "aec58dd5-5aca-4b4c-847d-a4caa785908f",
   "metadata": {},
   "outputs": [],
   "source": [
    "a.pop()"
   ]
  },
  {
   "cell_type": "code",
   "execution_count": null,
   "id": "ec64cb70-1441-4982-8dbc-e8771a1d29a3",
   "metadata": {},
   "outputs": [],
   "source": [
    "a"
   ]
  },
  {
   "cell_type": "code",
   "execution_count": null,
   "id": "96d1b512-cd37-47bf-9d9b-dbf69abf69e3",
   "metadata": {},
   "outputs": [],
   "source": [
    "a = [1,2,3,1]\n",
    "a"
   ]
  },
  {
   "cell_type": "code",
   "execution_count": null,
   "id": "638957f7-d4aa-4c50-96f6-1d5cfe8c9e7c",
   "metadata": {},
   "outputs": [],
   "source": [
    "a.count(1)"
   ]
  },
  {
   "cell_type": "code",
   "execution_count": null,
   "id": "b82916f5-5d43-4d4f-a960-58d1ec8057b7",
   "metadata": {},
   "outputs": [],
   "source": [
    "b = [4,5]\n",
    "[1,2,3,4,5,4,5]\n",
    "\n",
    "a.append(b)\n",
    "a"
   ]
  },
  {
   "cell_type": "code",
   "execution_count": null,
   "id": "30f61991-4c03-4996-947a-2ec1f5784289",
   "metadata": {},
   "outputs": [],
   "source": [
    "타자게임\n",
    "데이터 저장 : word = []\n",
    "word리스트에서 문제를 추출하여 제출하면 맞추는 게임\n",
    "- 한 번 출제된 문제는 맞출때까지 반복\n",
    "- 전체 5문제를 출제 다 맞추면 반복"
   ]
  },
  {
   "cell_type": "code",
   "execution_count": null,
   "id": "a65ca12c-b584-4a40-9b23-a07971863e32",
   "metadata": {},
   "outputs": [],
   "source": [
    "import random"
   ]
  },
  {
   "cell_type": "code",
   "execution_count": null,
   "id": "b12934ae-6a1a-4b35-9ab0-216717d39388",
   "metadata": {},
   "outputs": [],
   "source": [
    "word = ['cat','dog','강아지','고양이']\n",
    "random.choice(word)"
   ]
  },
  {
   "cell_type": "code",
   "execution_count": null,
   "id": "9fdc75d3-83d8-46c6-896b-21333d990285",
   "metadata": {},
   "outputs": [],
   "source": [
    "n = 1\n",
    "quiz = random.choice(word)\n",
    "while n <=5:\n",
    "    print(f'{n}번 ')\n",
    "    print(quiz)\n",
    "    result = input('>>>')\n",
    "    if quiz == result:\n",
    "        print('통과')\n",
    "        n += 1\n",
    "        quiz = random.choice(word)\n",
    "    else:\n",
    "        print('오타! 다시 도전!!')\n",
    "print('5문제 완료!!')"
   ]
  },
  {
   "cell_type": "code",
   "execution_count": null,
   "id": "f2a021fa-fad1-4423-b909-829f52c6ecb3",
   "metadata": {},
   "outputs": [],
   "source": [
    "word = ['cat','dog','강아지','고양이']\n",
    "\n",
    "menu_display = '''\n",
    "-----------------------------------------------------\n",
    "1.게임 2.문제추가 3.문제저장 4.등수리스트 5.종료\n",
    "-----------------------------------------------------\n",
    ">>>'''\n",
    "\n",
    "while True:\n",
    "    menu = input(menu_display)\n",
    "    if menu == '1':\n",
    "        print('게임시작')\n",
    "    elif menu == '2':\n",
    "        print('문제추가작업')\n",
    "        while True:\n",
    "            data = input('(종료:endter) >>>')\n",
    "            if data == '':\n",
    "                break\n",
    "            word.append(data)\n",
    "            print(word)\n",
    "    elif menu =='3':\n",
    "        print('문제저장작업')\n",
    "    elif menu =='4':\n",
    "        print('등수리스트')\n",
    "    elif menu =='5':\n",
    "        print('프로그램종료!')\n",
    "        break\n",
    "    else:\n",
    "        print('메뉴를 선택하셨습니다')"
   ]
  },
  {
   "cell_type": "code",
   "execution_count": 19,
   "id": "796a4761-8386-498d-b919-1e4c4b211a1d",
   "metadata": {},
   "outputs": [],
   "source": [
    "# 저장\n",
    "import json,pickle"
   ]
  },
  {
   "cell_type": "code",
   "execution_count": 20,
   "id": "5a213799-5593-4d73-810d-db87d0336dad",
   "metadata": {},
   "outputs": [
    {
     "ename": "NameError",
     "evalue": "name 'word' is not defined",
     "output_type": "error",
     "traceback": [
      "\u001b[1;31m---------------------------------------------------------------------------\u001b[0m",
      "\u001b[1;31mNameError\u001b[0m                                 Traceback (most recent call last)",
      "Input \u001b[1;32mIn [20]\u001b[0m, in \u001b[0;36m<cell line: 2>\u001b[1;34m()\u001b[0m\n\u001b[0;32m      1\u001b[0m f\u001b[38;5;241m=\u001b[39m\u001b[38;5;28mopen\u001b[39m(\u001b[38;5;124m'\u001b[39m\u001b[38;5;124mword.json\u001b[39m\u001b[38;5;124m'\u001b[39m, \u001b[38;5;124m'\u001b[39m\u001b[38;5;124mw\u001b[39m\u001b[38;5;124m'\u001b[39m)\n\u001b[1;32m----> 2\u001b[0m json\u001b[38;5;241m.\u001b[39mdump(\u001b[43mword\u001b[49m,f)\n\u001b[0;32m      3\u001b[0m f\u001b[38;5;241m.\u001b[39mclose()\n",
      "\u001b[1;31mNameError\u001b[0m: name 'word' is not defined"
     ]
    }
   ],
   "source": [
    "f=open('word.json', 'w')\n",
    "json.dump(word,f)\n",
    "f.close()"
   ]
  },
  {
   "cell_type": "code",
   "execution_count": 21,
   "id": "fe86a057-5adf-43c3-89f6-feca03f0f6ba",
   "metadata": {},
   "outputs": [
    {
     "ename": "JSONDecodeError",
     "evalue": "Expecting value: line 1 column 1 (char 0)",
     "output_type": "error",
     "traceback": [
      "\u001b[1;31m---------------------------------------------------------------------------\u001b[0m",
      "\u001b[1;31mJSONDecodeError\u001b[0m                           Traceback (most recent call last)",
      "Input \u001b[1;32mIn [21]\u001b[0m, in \u001b[0;36m<cell line: 2>\u001b[1;34m()\u001b[0m\n\u001b[0;32m      1\u001b[0m f \u001b[38;5;241m=\u001b[39m \u001b[38;5;28mopen\u001b[39m(\u001b[38;5;124m'\u001b[39m\u001b[38;5;124mword.json\u001b[39m\u001b[38;5;124m'\u001b[39m,\u001b[38;5;124m'\u001b[39m\u001b[38;5;124mr\u001b[39m\u001b[38;5;124m'\u001b[39m)\n\u001b[1;32m----> 2\u001b[0m word_1\u001b[38;5;241m=\u001b[39m \u001b[43mjson\u001b[49m\u001b[38;5;241;43m.\u001b[39;49m\u001b[43mload\u001b[49m\u001b[43m(\u001b[49m\u001b[43mf\u001b[49m\u001b[43m)\u001b[49m\n\u001b[0;32m      3\u001b[0m f\u001b[38;5;241m.\u001b[39mclose()\n",
      "File \u001b[1;32m~\\anaconda3\\lib\\json\\__init__.py:293\u001b[0m, in \u001b[0;36mload\u001b[1;34m(fp, cls, object_hook, parse_float, parse_int, parse_constant, object_pairs_hook, **kw)\u001b[0m\n\u001b[0;32m    274\u001b[0m \u001b[38;5;28;01mdef\u001b[39;00m \u001b[38;5;21mload\u001b[39m(fp, \u001b[38;5;241m*\u001b[39m, \u001b[38;5;28mcls\u001b[39m\u001b[38;5;241m=\u001b[39m\u001b[38;5;28;01mNone\u001b[39;00m, object_hook\u001b[38;5;241m=\u001b[39m\u001b[38;5;28;01mNone\u001b[39;00m, parse_float\u001b[38;5;241m=\u001b[39m\u001b[38;5;28;01mNone\u001b[39;00m,\n\u001b[0;32m    275\u001b[0m         parse_int\u001b[38;5;241m=\u001b[39m\u001b[38;5;28;01mNone\u001b[39;00m, parse_constant\u001b[38;5;241m=\u001b[39m\u001b[38;5;28;01mNone\u001b[39;00m, object_pairs_hook\u001b[38;5;241m=\u001b[39m\u001b[38;5;28;01mNone\u001b[39;00m, \u001b[38;5;241m*\u001b[39m\u001b[38;5;241m*\u001b[39mkw):\n\u001b[0;32m    276\u001b[0m     \u001b[38;5;124;03m\"\"\"Deserialize ``fp`` (a ``.read()``-supporting file-like object containing\u001b[39;00m\n\u001b[0;32m    277\u001b[0m \u001b[38;5;124;03m    a JSON document) to a Python object.\u001b[39;00m\n\u001b[0;32m    278\u001b[0m \n\u001b[1;32m   (...)\u001b[0m\n\u001b[0;32m    291\u001b[0m \u001b[38;5;124;03m    kwarg; otherwise ``JSONDecoder`` is used.\u001b[39;00m\n\u001b[0;32m    292\u001b[0m \u001b[38;5;124;03m    \"\"\"\u001b[39;00m\n\u001b[1;32m--> 293\u001b[0m     \u001b[38;5;28;01mreturn\u001b[39;00m loads(fp\u001b[38;5;241m.\u001b[39mread(),\n\u001b[0;32m    294\u001b[0m         \u001b[38;5;28mcls\u001b[39m\u001b[38;5;241m=\u001b[39m\u001b[38;5;28mcls\u001b[39m, object_hook\u001b[38;5;241m=\u001b[39mobject_hook,\n\u001b[0;32m    295\u001b[0m         parse_float\u001b[38;5;241m=\u001b[39mparse_float, parse_int\u001b[38;5;241m=\u001b[39mparse_int,\n\u001b[0;32m    296\u001b[0m         parse_constant\u001b[38;5;241m=\u001b[39mparse_constant, object_pairs_hook\u001b[38;5;241m=\u001b[39mobject_pairs_hook, \u001b[38;5;241m*\u001b[39m\u001b[38;5;241m*\u001b[39mkw)\n",
      "File \u001b[1;32m~\\anaconda3\\lib\\json\\__init__.py:346\u001b[0m, in \u001b[0;36mloads\u001b[1;34m(s, cls, object_hook, parse_float, parse_int, parse_constant, object_pairs_hook, **kw)\u001b[0m\n\u001b[0;32m    341\u001b[0m     s \u001b[38;5;241m=\u001b[39m s\u001b[38;5;241m.\u001b[39mdecode(detect_encoding(s), \u001b[38;5;124m'\u001b[39m\u001b[38;5;124msurrogatepass\u001b[39m\u001b[38;5;124m'\u001b[39m)\n\u001b[0;32m    343\u001b[0m \u001b[38;5;28;01mif\u001b[39;00m (\u001b[38;5;28mcls\u001b[39m \u001b[38;5;129;01mis\u001b[39;00m \u001b[38;5;28;01mNone\u001b[39;00m \u001b[38;5;129;01mand\u001b[39;00m object_hook \u001b[38;5;129;01mis\u001b[39;00m \u001b[38;5;28;01mNone\u001b[39;00m \u001b[38;5;129;01mand\u001b[39;00m\n\u001b[0;32m    344\u001b[0m         parse_int \u001b[38;5;129;01mis\u001b[39;00m \u001b[38;5;28;01mNone\u001b[39;00m \u001b[38;5;129;01mand\u001b[39;00m parse_float \u001b[38;5;129;01mis\u001b[39;00m \u001b[38;5;28;01mNone\u001b[39;00m \u001b[38;5;129;01mand\u001b[39;00m\n\u001b[0;32m    345\u001b[0m         parse_constant \u001b[38;5;129;01mis\u001b[39;00m \u001b[38;5;28;01mNone\u001b[39;00m \u001b[38;5;129;01mand\u001b[39;00m object_pairs_hook \u001b[38;5;129;01mis\u001b[39;00m \u001b[38;5;28;01mNone\u001b[39;00m \u001b[38;5;129;01mand\u001b[39;00m \u001b[38;5;129;01mnot\u001b[39;00m kw):\n\u001b[1;32m--> 346\u001b[0m     \u001b[38;5;28;01mreturn\u001b[39;00m \u001b[43m_default_decoder\u001b[49m\u001b[38;5;241;43m.\u001b[39;49m\u001b[43mdecode\u001b[49m\u001b[43m(\u001b[49m\u001b[43ms\u001b[49m\u001b[43m)\u001b[49m\n\u001b[0;32m    347\u001b[0m \u001b[38;5;28;01mif\u001b[39;00m \u001b[38;5;28mcls\u001b[39m \u001b[38;5;129;01mis\u001b[39;00m \u001b[38;5;28;01mNone\u001b[39;00m:\n\u001b[0;32m    348\u001b[0m     \u001b[38;5;28mcls\u001b[39m \u001b[38;5;241m=\u001b[39m JSONDecoder\n",
      "File \u001b[1;32m~\\anaconda3\\lib\\json\\decoder.py:337\u001b[0m, in \u001b[0;36mJSONDecoder.decode\u001b[1;34m(self, s, _w)\u001b[0m\n\u001b[0;32m    332\u001b[0m \u001b[38;5;28;01mdef\u001b[39;00m \u001b[38;5;21mdecode\u001b[39m(\u001b[38;5;28mself\u001b[39m, s, _w\u001b[38;5;241m=\u001b[39mWHITESPACE\u001b[38;5;241m.\u001b[39mmatch):\n\u001b[0;32m    333\u001b[0m     \u001b[38;5;124;03m\"\"\"Return the Python representation of ``s`` (a ``str`` instance\u001b[39;00m\n\u001b[0;32m    334\u001b[0m \u001b[38;5;124;03m    containing a JSON document).\u001b[39;00m\n\u001b[0;32m    335\u001b[0m \n\u001b[0;32m    336\u001b[0m \u001b[38;5;124;03m    \"\"\"\u001b[39;00m\n\u001b[1;32m--> 337\u001b[0m     obj, end \u001b[38;5;241m=\u001b[39m \u001b[38;5;28;43mself\u001b[39;49m\u001b[38;5;241;43m.\u001b[39;49m\u001b[43mraw_decode\u001b[49m\u001b[43m(\u001b[49m\u001b[43ms\u001b[49m\u001b[43m,\u001b[49m\u001b[43m \u001b[49m\u001b[43midx\u001b[49m\u001b[38;5;241;43m=\u001b[39;49m\u001b[43m_w\u001b[49m\u001b[43m(\u001b[49m\u001b[43ms\u001b[49m\u001b[43m,\u001b[49m\u001b[43m \u001b[49m\u001b[38;5;241;43m0\u001b[39;49m\u001b[43m)\u001b[49m\u001b[38;5;241;43m.\u001b[39;49m\u001b[43mend\u001b[49m\u001b[43m(\u001b[49m\u001b[43m)\u001b[49m\u001b[43m)\u001b[49m\n\u001b[0;32m    338\u001b[0m     end \u001b[38;5;241m=\u001b[39m _w(s, end)\u001b[38;5;241m.\u001b[39mend()\n\u001b[0;32m    339\u001b[0m     \u001b[38;5;28;01mif\u001b[39;00m end \u001b[38;5;241m!=\u001b[39m \u001b[38;5;28mlen\u001b[39m(s):\n",
      "File \u001b[1;32m~\\anaconda3\\lib\\json\\decoder.py:355\u001b[0m, in \u001b[0;36mJSONDecoder.raw_decode\u001b[1;34m(self, s, idx)\u001b[0m\n\u001b[0;32m    353\u001b[0m     obj, end \u001b[38;5;241m=\u001b[39m \u001b[38;5;28mself\u001b[39m\u001b[38;5;241m.\u001b[39mscan_once(s, idx)\n\u001b[0;32m    354\u001b[0m \u001b[38;5;28;01mexcept\u001b[39;00m \u001b[38;5;167;01mStopIteration\u001b[39;00m \u001b[38;5;28;01mas\u001b[39;00m err:\n\u001b[1;32m--> 355\u001b[0m     \u001b[38;5;28;01mraise\u001b[39;00m JSONDecodeError(\u001b[38;5;124m\"\u001b[39m\u001b[38;5;124mExpecting value\u001b[39m\u001b[38;5;124m\"\u001b[39m, s, err\u001b[38;5;241m.\u001b[39mvalue) \u001b[38;5;28;01mfrom\u001b[39;00m \u001b[38;5;28mNone\u001b[39m\n\u001b[0;32m    356\u001b[0m \u001b[38;5;28;01mreturn\u001b[39;00m obj, end\n",
      "\u001b[1;31mJSONDecodeError\u001b[0m: Expecting value: line 1 column 1 (char 0)"
     ]
    }
   ],
   "source": [
    "f = open('word.json','r')\n",
    "word_1= json.load(f)\n",
    "f.close()"
   ]
  },
  {
   "cell_type": "code",
   "execution_count": 22,
   "id": "7bc092b5-ecf1-4ee3-894c-cd3d744e643e",
   "metadata": {},
   "outputs": [
    {
     "ename": "NameError",
     "evalue": "name 'word_1' is not defined",
     "output_type": "error",
     "traceback": [
      "\u001b[1;31m---------------------------------------------------------------------------\u001b[0m",
      "\u001b[1;31mNameError\u001b[0m                                 Traceback (most recent call last)",
      "Input \u001b[1;32mIn [22]\u001b[0m, in \u001b[0;36m<cell line: 1>\u001b[1;34m()\u001b[0m\n\u001b[1;32m----> 1\u001b[0m \u001b[43mword_1\u001b[49m\n",
      "\u001b[1;31mNameError\u001b[0m: name 'word_1' is not defined"
     ]
    }
   ],
   "source": [
    "word_1"
   ]
  },
  {
   "cell_type": "code",
   "execution_count": 23,
   "id": "74770d3d-11c2-4824-b6bb-b2f0fe026fa8",
   "metadata": {},
   "outputs": [
    {
     "ename": "NameError",
     "evalue": "name 'word' is not defined",
     "output_type": "error",
     "traceback": [
      "\u001b[1;31m---------------------------------------------------------------------------\u001b[0m",
      "\u001b[1;31mNameError\u001b[0m                                 Traceback (most recent call last)",
      "Input \u001b[1;32mIn [23]\u001b[0m, in \u001b[0;36m<cell line: 2>\u001b[1;34m()\u001b[0m\n\u001b[0;32m      1\u001b[0m f\u001b[38;5;241m=\u001b[39m\u001b[38;5;28mopen\u001b[39m(\u001b[38;5;124m'\u001b[39m\u001b[38;5;124mword.pickle\u001b[39m\u001b[38;5;124m'\u001b[39m, \u001b[38;5;124m'\u001b[39m\u001b[38;5;124mwb\u001b[39m\u001b[38;5;124m'\u001b[39m)\n\u001b[1;32m----> 2\u001b[0m pickle\u001b[38;5;241m.\u001b[39mdump(\u001b[43mword\u001b[49m,f)\n\u001b[0;32m      3\u001b[0m f\u001b[38;5;241m.\u001b[39mclose()\n",
      "\u001b[1;31mNameError\u001b[0m: name 'word' is not defined"
     ]
    }
   ],
   "source": [
    "f=open('word.pickle', 'wb')\n",
    "pickle.dump(word,f)\n",
    "f.close()"
   ]
  },
  {
   "cell_type": "code",
   "execution_count": 24,
   "id": "417f7973-33f5-4dde-b717-f682262a5d42",
   "metadata": {},
   "outputs": [
    {
     "ename": "EOFError",
     "evalue": "Ran out of input",
     "output_type": "error",
     "traceback": [
      "\u001b[1;31m---------------------------------------------------------------------------\u001b[0m",
      "\u001b[1;31mEOFError\u001b[0m                                  Traceback (most recent call last)",
      "Input \u001b[1;32mIn [24]\u001b[0m, in \u001b[0;36m<cell line: 2>\u001b[1;34m()\u001b[0m\n\u001b[0;32m      1\u001b[0m f \u001b[38;5;241m=\u001b[39m \u001b[38;5;28mopen\u001b[39m(\u001b[38;5;124m'\u001b[39m\u001b[38;5;124mword.pickle\u001b[39m\u001b[38;5;124m'\u001b[39m,\u001b[38;5;124m'\u001b[39m\u001b[38;5;124mrb\u001b[39m\u001b[38;5;124m'\u001b[39m)\n\u001b[1;32m----> 2\u001b[0m word_2\u001b[38;5;241m=\u001b[39m \u001b[43mpickle\u001b[49m\u001b[38;5;241;43m.\u001b[39;49m\u001b[43mload\u001b[49m\u001b[43m(\u001b[49m\u001b[43mf\u001b[49m\u001b[43m)\u001b[49m\n\u001b[0;32m      3\u001b[0m f\u001b[38;5;241m.\u001b[39mclose()\n",
      "\u001b[1;31mEOFError\u001b[0m: Ran out of input"
     ]
    }
   ],
   "source": [
    "f = open('word.pickle','rb')\n",
    "word_2= pickle.load(f)\n",
    "f.close()"
   ]
  },
  {
   "cell_type": "code",
   "execution_count": 25,
   "id": "0564aeb9-58b1-4310-bb04-e473fa9996b0",
   "metadata": {},
   "outputs": [
    {
     "ename": "NameError",
     "evalue": "name 'word_2' is not defined",
     "output_type": "error",
     "traceback": [
      "\u001b[1;31m---------------------------------------------------------------------------\u001b[0m",
      "\u001b[1;31mNameError\u001b[0m                                 Traceback (most recent call last)",
      "Input \u001b[1;32mIn [25]\u001b[0m, in \u001b[0;36m<cell line: 1>\u001b[1;34m()\u001b[0m\n\u001b[1;32m----> 1\u001b[0m \u001b[43mword_2\u001b[49m\n",
      "\u001b[1;31mNameError\u001b[0m: name 'word_2' is not defined"
     ]
    }
   ],
   "source": [
    "word_2"
   ]
  },
  {
   "cell_type": "code",
   "execution_count": 26,
   "id": "96dd2d14-2921-4622-8e40-25fdf83fa959",
   "metadata": {},
   "outputs": [],
   "source": [
    "import time"
   ]
  },
  {
   "cell_type": "code",
   "execution_count": 27,
   "id": "c3480f8e-e8e8-4ca3-8652-1a6bedcf6147",
   "metadata": {},
   "outputs": [
    {
     "data": {
      "text/plain": [
       "1656393118.0572095"
      ]
     },
     "execution_count": 27,
     "metadata": {},
     "output_type": "execute_result"
    }
   ],
   "source": [
    "time.time()"
   ]
  },
  {
   "cell_type": "code",
   "execution_count": 28,
   "id": "056bacc7-68da-4b59-ac7b-8b281545320b",
   "metadata": {},
   "outputs": [
    {
     "data": {
      "text/plain": [
       "['강동근', '정병윤']"
      ]
     },
     "execution_count": 28,
     "metadata": {},
     "output_type": "execute_result"
    }
   ],
   "source": [
    "rank={'강동근': 11.932971954345703, '정병윤': 10.767038583755493}\n",
    "sorted(rank)"
   ]
  },
  {
   "cell_type": "code",
   "execution_count": 29,
   "id": "da546c51-39d9-4bcb-bb2d-36f518acfa72",
   "metadata": {},
   "outputs": [
    {
     "data": {
      "text/plain": [
       "dict_items([('강동근', 11.932971954345703), ('정병윤', 10.767038583755493)])"
      ]
     },
     "execution_count": 29,
     "metadata": {},
     "output_type": "execute_result"
    }
   ],
   "source": [
    "rank.items()"
   ]
  },
  {
   "cell_type": "code",
   "execution_count": 30,
   "id": "6a192b67-2389-4a7b-a738-bc69beb426be",
   "metadata": {},
   "outputs": [
    {
     "data": {
      "text/plain": [
       "[('정병윤', 10.767038583755493), ('강동근', 11.932971954345703)]"
      ]
     },
     "execution_count": 30,
     "metadata": {},
     "output_type": "execute_result"
    }
   ],
   "source": [
    "sorted(rank.items(),key=lambda x : x[1]) #시간이 작은게 먼저 나온다"
   ]
  },
  {
   "cell_type": "code",
   "execution_count": null,
   "id": "3fc4f865-5749-4f58-be52-9292b0674d3a",
   "metadata": {},
   "outputs": [
    {
     "name": "stdin",
     "output_type": "stream",
     "text": [
      "\n",
      "-----------------------------------------------------\n",
      "1.게임 2.문제추가 3.문제저장 4.등수리스트 5.종료\n",
      "-----------------------------------------------------\n",
      ">>> 4\n"
     ]
    },
    {
     "name": "stdout",
     "output_type": "stream",
     "text": [
      "등수리스트\n",
      "1등강동근 시간:12\n",
      "2등정병윤 시간:13\n"
     ]
    }
   ],
   "source": [
    "import json\n",
    "# f = open('word.json','r')\n",
    "# word = json.load(f)\n",
    "# f.close()\n",
    "word=[]\n",
    "rank={'강동근': 11.932971954345703, '정병윤': 12.767038583755493}\n",
    "\n",
    "menu_display = '''\n",
    "-----------------------------------------------------\n",
    "1.게임 2.문제추가 3.문제저장 4.등수리스트 5.종료\n",
    "-----------------------------------------------------\n",
    ">>>'''\n",
    "\n",
    "while True:\n",
    "    menu = input(menu_display)\n",
    "    if menu == '1':\n",
    "        print('게임시작')\n",
    "        start = time.time()\n",
    "        n = 1\n",
    "        quiz = random.choice(word)\n",
    "        while n <=5:\n",
    "            print(f'{n}번 ')\n",
    "            print(quiz)\n",
    "            result = input('>>>')\n",
    "            if quiz == result:\n",
    "                print('통과')\n",
    "                n += 1\n",
    "                quiz = random.choice(word)\n",
    "            else:\n",
    "                print('오타! 다시 도전!!')\n",
    "        print('5문제 완료!!')\n",
    "        end = time.time()\n",
    "        print(f'걸린 시간 : {end - start:.0f}초')\n",
    "        \n",
    "        name = input('이름을 입력하세요 >>>')\n",
    "        rank[name] = end - start\n",
    "        print(rank)\n",
    "        dic = {'aaa':end - start, 'bbb':end - start}\n",
    "        \n",
    "    elif menu == '2':\n",
    "        print('문제추가작업')\n",
    "        while True:\n",
    "            data = input('(종료:endter) >>>')\n",
    "            if data == '':\n",
    "                break\n",
    "            word.append(data)\n",
    "            print(word)\n",
    "            \n",
    "    elif menu =='3':\n",
    "        print('문제저장작업')\n",
    "         \n",
    "        \n",
    "    elif menu =='4':\n",
    "        print('등수리스트')\n",
    "        for index, (k,v) in enumerate (sorted(rank.items(),key=lambda x : x[1])):\n",
    "            print(f'{index+1}등{k} 시간:{v:.0f}')\n",
    "        \n",
    "    elif menu =='5':\n",
    "        print('프로그램종료!')\n",
    "        f = open('word.json','w')\n",
    "        json.dump(word,f)\n",
    "        f.close()\n",
    "        break\n",
    "    else:\n",
    "        print('메뉴를 선택하셨습니다')"
   ]
  },
  {
   "cell_type": "code",
   "execution_count": null,
   "id": "e0e6ae28-a948-4420-ae40-c67f83afb173",
   "metadata": {},
   "outputs": [],
   "source": []
  },
  {
   "cell_type": "code",
   "execution_count": 2,
   "id": "88c6bf25-78bf-48c3-822d-39f5df9bee0d",
   "metadata": {},
   "outputs": [
    {
     "ename": "SyntaxError",
     "evalue": "invalid syntax (4152500380.py, line 2)",
     "output_type": "error",
     "traceback": [
      "\u001b[1;36m  Input \u001b[1;32mIn [2]\u001b[1;36m\u001b[0m\n\u001b[1;33m    1.커피자판기 2.메뉴추가 3.메뉴삭제 4.메뉴목록 5.종료\u001b[0m\n\u001b[1;37m      ^\u001b[0m\n\u001b[1;31mSyntaxError\u001b[0m\u001b[1;31m:\u001b[0m invalid syntax\n"
     ]
    }
   ],
   "source": [
    "#커피자판기\n",
    "1.커피자판기 2.메뉴추가 3.메뉴삭제 4.메뉴목록 5.종료\n",
    "- 프로그램이 시작될때 필요한 정보를 읽어서 시작합니다.\n",
    "-커피자판기 무한반복하면서 돈을 입력받고, 메뉴를 선택해서 처리 \n",
    "-메뉴추가 자판기에서 판매하는 메뉴를 추가하는 기능(메뉴명,가격)\n",
    "-메뉴삭제는 전체 목록을 보여주고 삭제하고자하는 항목을 선택하도록 해서 삭제 처리\n",
    "-메뉴목록은 메뉴이름순,메뉴가격순으로 정렬해서 보여줌.\n",
    "-종료는 저장할 정보가 있으면 저장하고 종료합니다.\n"
   ]
  },
  {
   "cell_type": "code",
   "execution_count": 25,
   "id": "523f12a3-9434-495a-9cef-927500cf9da5",
   "metadata": {},
   "outputs": [
    {
     "ename": "SyntaxError",
     "evalue": "unmatched ')' (1434622134.py, line 17)",
     "output_type": "error",
     "traceback": [
      "\u001b[1;36m  Input \u001b[1;32mIn [25]\u001b[1;36m\u001b[0m\n\u001b[1;33m    choice = input('메뉴선택(종료:enter)>>>'))\u001b[0m\n\u001b[1;37m                                       ^\u001b[0m\n\u001b[1;31mSyntaxError\u001b[0m\u001b[1;31m:\u001b[0m unmatched ')'\n"
     ]
    }
   ],
   "source": [
    "item = {'아이스아메리카노':2000,\n",
    "        '라떼':3500,\n",
    "        '프라푸치노':4500}\n",
    "menu_display = '''\n",
    "=================================================\n",
    "1.커피자판기 2.메뉴추가 3.메뉴삭제 4.메뉴목록 5.종료\n",
    "=================================================\n",
    ">>>'''\n",
    "while True:\n",
    "    menu = input(menu_display)\n",
    "    if menu == '1':\n",
    "        choice = '선택한 메뉴'\n",
    "        while choice:\n",
    "            for k,v in item.items():\n",
    "                print(f'{k}:{v:,}원',end=' ')\n",
    "            print()\n",
    "            choice = input('메뉴선택(종료:enter)>>>'))\n",
    "            money = int(input('금액 투입 >>>'))\n",
    "            if choice in item.keys():\n",
    "                if money >= item[choice]:\n",
    "                    money -= item[choice]\n",
    "                    print(f'{choice} 서비스 합니다.거스름돈은 {money}'))\n",
    "                else:\n",
    "                    print('해당메뉴가 없어요!')\n",
    "    elif menu =='2':\n",
    "        menu_name =input('메뉴명 >>>')\n",
    "        menu_price= ''\n",
    "        while not menu_price.isdigit():\n",
    "            menu_price = input('메뉴가격 >>> ')\n",
    "        menu_price = int(menu_price)\n",
    "        \n",
    "        if menu_name in item.keys():\n",
    "            print(f'{menu_name}메뉴가 있습니다. 수정합니다')\n",
    "        else:\n",
    "            print(f'{menu_name} 메뉴를 추가합니다.')\n",
    "        item[menu_name] = menu_price\n",
    "        print(item)\n",
    "    elif menu =='3':\n",
    "        menu_name = input('삭제하려 메뉴명>>>')\n",
    "        if menu_name in item.keys():\n",
    "            print(f'{item.pop(menu_name)}메뉴를 삭제 합니다.')\n",
    "        else:\n",
    "            print(f'{menu_name}메뉴가 존재하지 않아 삭제가 불가합니다.')\n",
    "    elif menu =='4':\n",
    "            menu_1 = input('1.이름순 2.가격순 >>>')\n",
    "            if menu_1 =='1':\n",
    "                for k,v in sorted(item.items(),key=lambda x : x[0]):\n",
    "                    print(f'{k:25} : {v:10,}원')\n",
    "            elif menu_1 =='2':\n",
    "                for k,v in sorted(item.items(),key=lambda x : x[1]):\n",
    "                print(f'{k:25} : {v:10,}원')\n",
    "    elif menu =='5':\n",
    "        break\n",
    "    else:\n",
    "        print('메뉴를 잘못 선택하셨습니다.')\n",
    "        \n",
    "        "
   ]
  }
 ],
 "metadata": {
  "kernelspec": {
   "display_name": "Python 3 (ipykernel)",
   "language": "python",
   "name": "python3"
  },
  "language_info": {
   "codemirror_mode": {
    "name": "ipython",
    "version": 3
   },
   "file_extension": ".py",
   "mimetype": "text/x-python",
   "name": "python",
   "nbconvert_exporter": "python",
   "pygments_lexer": "ipython3",
   "version": "3.9.12"
  }
 },
 "nbformat": 4,
 "nbformat_minor": 5
}
