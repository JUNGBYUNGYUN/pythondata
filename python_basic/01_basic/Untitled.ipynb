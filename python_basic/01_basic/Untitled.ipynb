{
 "cells": [
  {
   "cell_type": "code",
   "execution_count": 2,
   "id": "83017d3b-cd5d-450e-9397-8e50867bb13f",
   "metadata": {},
   "outputs": [
    {
     "ename": "TypeError",
     "evalue": "len() takes exactly one argument (0 given)",
     "output_type": "error",
     "traceback": [
      "\u001b[1;31m---------------------------------------------------------------------------\u001b[0m",
      "\u001b[1;31mTypeError\u001b[0m                                 Traceback (most recent call last)",
      "Input \u001b[1;32mIn [2]\u001b[0m, in \u001b[0;36m<cell line: 1>\u001b[1;34m()\u001b[0m\n\u001b[1;32m----> 1\u001b[0m \u001b[38;5;28;43mlen\u001b[39;49m\u001b[43m(\u001b[49m\u001b[43m)\u001b[49m\n",
      "\u001b[1;31mTypeError\u001b[0m: len() takes exactly one argument (0 given)"
     ]
    }
   ],
   "source": [
    "len()"
   ]
  },
  {
   "cell_type": "code",
   "execution_count": 7,
   "id": "4fb3be54-f5d0-4add-bbfb-91b06e3bc198",
   "metadata": {},
   "outputs": [
    {
     "data": {
      "text/plain": [
       "525"
      ]
     },
     "execution_count": 7,
     "metadata": {},
     "output_type": "execute_result"
    }
   ],
   "source": [
    "a=15\n",
    "b=35\n",
    "a*b"
   ]
  },
  {
   "cell_type": "code",
   "execution_count": 10,
   "id": "35c62ee8-81e8-43be-89e2-62b9118e4616",
   "metadata": {},
   "outputs": [
    {
     "data": {
      "text/plain": [
       "17"
      ]
     },
     "execution_count": 10,
     "metadata": {},
     "output_type": "execute_result"
    }
   ],
   "source": [
    "a= 'life is too short'\n",
    "len(a)"
   ]
  },
  {
   "cell_type": "code",
   "execution_count": 1,
   "id": "ec51ca7a-2915-4770-a7a8-a2c8325127d2",
   "metadata": {},
   "outputs": [
    {
     "data": {
      "text/plain": [
       "17"
      ]
     },
     "execution_count": 1,
     "metadata": {},
     "output_type": "execute_result"
    }
   ],
   "source": [
    "a= 'LIFE IS TOO SHORT'\n",
    "len(a)"
   ]
  },
  {
   "cell_type": "markdown",
   "id": "ba3b733c-0bf0-4ef3-9926-a6ed59bcca61",
   "metadata": {},
   "source": [
    "a=1\n",
    "b=2\n",
    "a+b;"
   ]
  },
  {
   "cell_type": "code",
   "execution_count": 3,
   "id": "d46591f9-a2dc-44bf-b6b2-b00bb175e2ef",
   "metadata": {},
   "outputs": [],
   "source": [
    "a=1\n",
    "b=2\n",
    "a+b;"
   ]
  },
  {
   "cell_type": "code",
   "execution_count": 6,
   "id": "46f9aa40-ebb4-46fc-9848-b401f33cfd4f",
   "metadata": {},
   "outputs": [],
   "source": [
    "a=1\n",
    "b=2\n",
    "a+b;"
   ]
  },
  {
   "cell_type": "code",
   "execution_count": 8,
   "id": "0cbf9960-42ce-49d5-a819-f0abb8bd8a05",
   "metadata": {},
   "outputs": [],
   "source": [
    "#주민등록 번호를 입력 받아서 생년월일과 성별을 출력하세요 \n",
    "#3항 연산자를 이용([조건] ? [참 일때] : [거짓일때]) // 파이썬 미지원\n",
    "# [true_value] if [conditio] else [false_value] //파이썬 지원"
   ]
  },
  {
   "cell_type": "code",
   "execution_count": 10,
   "id": "03e6003d-552a-4c1d-bc2e-0e611e5ea028",
   "metadata": {},
   "outputs": [
    {
     "ename": "SyntaxError",
     "evalue": "invalid syntax (2381979967.py, line 2)",
     "output_type": "error",
     "traceback": [
      "\u001b[1;36m  Input \u001b[1;32mIn [10]\u001b[1;36m\u001b[0m\n\u001b[1;33m    jumin[7] ==3 ? \"남자\":\"여자\"\u001b[0m\n\u001b[1;37m                 ^\u001b[0m\n\u001b[1;31mSyntaxError\u001b[0m\u001b[1;31m:\u001b[0m invalid syntax\n"
     ]
    }
   ],
   "source": [
    "jumin='940609-1682015'\n",
    "jumin[7] ==3 ? \"남자\":\"여자\""
   ]
  },
  {
   "cell_type": "code",
   "execution_count": 12,
   "id": "adb16854-fd10-45d9-8235-9e195bad04af",
   "metadata": {},
   "outputs": [
    {
     "name": "stdin",
     "output_type": "stream",
     "text": [
      "주민등록번호 입력 >>> 970609175356\n"
     ]
    },
    {
     "name": "stdout",
     "output_type": "stream",
     "text": [
      "생년월일 970609\n",
      "성별 남자\n"
     ]
    }
   ],
   "source": [
    "jumin = input('주민등록번호 입력 >>>')\n",
    "print('생년월일',jumin[:6])\n",
    "print('성별','남자' if jumin[7]=='3'or'1' else '여자')"
   ]
  },
  {
   "cell_type": "code",
   "execution_count": 30,
   "id": "1a22c4a8-35a5-4557-871f-1e3641724f1d",
   "metadata": {},
   "outputs": [
    {
     "name": "stdin",
     "output_type": "stream",
     "text": [
      "주민등록번호 입력 >>> 000000-_\n"
     ]
    },
    {
     "name": "stdout",
     "output_type": "stream",
     "text": [
      "생년월일 000000\n",
      "성별 _ 여자\n"
     ]
    }
   ],
   "source": [
    "jumin = input('주민등록번호 입력 >>>')\n",
    "print('생년월일',jumin[:6])\n",
    "print('성별', jumin[7], '남자' if jumin[7]=='3' or jumin[7]=='1' else '여자')"
   ]
  },
  {
   "cell_type": "code",
   "execution_count": 32,
   "id": "acbd4fde-22e5-40ba-b64f-375ff0372463",
   "metadata": {},
   "outputs": [
    {
     "ename": "SyntaxError",
     "evalue": "invalid syntax (2053395173.py, line 1)",
     "output_type": "error",
     "traceback": [
      "\u001b[1;36m  Input \u001b[1;32mIn [32]\u001b[1;36m\u001b[0m\n\u001b[1;33m    if jumin[7]== '3' or TRUE\u001b[0m\n\u001b[1;37m                             ^\u001b[0m\n\u001b[1;31mSyntaxError\u001b[0m\u001b[1;31m:\u001b[0m invalid syntax\n"
     ]
    }
   ],
   "source": [
    "if jumin[7]== '3' or TRUE"
   ]
  },
  {
   "cell_type": "code",
   "execution_count": 34,
   "id": "f452065c-0576-43ab-b088-970084548a21",
   "metadata": {},
   "outputs": [
    {
     "data": {
      "text/plain": [
       "'i eat 3 apples.'"
      ]
     },
     "execution_count": 34,
     "metadata": {},
     "output_type": "execute_result"
    }
   ],
   "source": [
    "\"i eat %d apples.\" %3"
   ]
  },
  {
   "cell_type": "code",
   "execution_count": 36,
   "id": "618ae1c2-7b23-4d82-b7ad-97dd5196a1b5",
   "metadata": {},
   "outputs": [
    {
     "data": {
      "text/plain": [
       "'i eat 3 apples. end'"
      ]
     },
     "execution_count": 36,
     "metadata": {},
     "output_type": "execute_result"
    }
   ],
   "source": [
    "\"i eat %d apples. %s\" %(3,\"end\")"
   ]
  },
  {
   "cell_type": "code",
   "execution_count": 39,
   "id": "3e990184-9b81-4808-bab1-d8e8a588d556",
   "metadata": {},
   "outputs": [
    {
     "data": {
      "text/plain": [
       "'i eat321,321.12 apples,.count'"
      ]
     },
     "execution_count": 39,
     "metadata": {},
     "output_type": "execute_result"
    }
   ],
   "source": [
    "'i eat{:^10,.2f} apples,.{}'.format(321321.123456,'count')"
   ]
  },
  {
   "cell_type": "code",
   "execution_count": null,
   "id": "829b7fbc-63c9-44ba-9eca-d47eb17a2b50",
   "metadata": {},
   "outputs": [],
   "source": [
    "name = input('이름을 입력하세요 >>>')\n",
    "age =input ('나이를 입력하세요>>>')\n",
    "print(f'이름은 {name} 이고, 나이는 {age} 살입니다.' .format(name,age))"
   ]
  },
  {
   "cell_type": "code",
   "execution_count": 2,
   "id": "54e6cccd-e7ef-488a-a890-01efbefe42b7",
   "metadata": {},
   "outputs": [
    {
     "data": {
      "text/plain": [
       "14"
      ]
     },
     "execution_count": 2,
     "metadata": {},
     "output_type": "execute_result"
    }
   ],
   "source": [
    "a=\"Python is the bes choice\"\n",
    "a.find('b')"
   ]
  },
  {
   "cell_type": "code",
   "execution_count": 5,
   "id": "1c40f2c8-cc76-43f4-a9c6-f9ce2203bd42",
   "metadata": {},
   "outputs": [
    {
     "data": {
      "text/plain": [
       "-1"
      ]
     },
     "execution_count": 5,
     "metadata": {},
     "output_type": "execute_result"
    }
   ],
   "source": [
    "a.find('k') # 파인드는 글자가 없을경우 -1 리턴 "
   ]
  },
  {
   "cell_type": "code",
   "execution_count": 7,
   "id": "15897ac8-ac70-491d-bbaa-f9f40f5de2c3",
   "metadata": {},
   "outputs": [
    {
     "data": {
      "text/plain": [
       "8"
      ]
     },
     "execution_count": 7,
     "metadata": {},
     "output_type": "execute_result"
    }
   ],
   "source": [
    "a=\"Life is too short\"\n",
    "a.index('t')"
   ]
  },
  {
   "cell_type": "code",
   "execution_count": 9,
   "id": "8e1aa03a-e017-4a4e-b47c-65fe218e095f",
   "metadata": {},
   "outputs": [
    {
     "ename": "ValueError",
     "evalue": "substring not found",
     "output_type": "error",
     "traceback": [
      "\u001b[1;31m---------------------------------------------------------------------------\u001b[0m",
      "\u001b[1;31mValueError\u001b[0m                                Traceback (most recent call last)",
      "Input \u001b[1;32mIn [9]\u001b[0m, in \u001b[0;36m<cell line: 1>\u001b[1;34m()\u001b[0m\n\u001b[1;32m----> 1\u001b[0m \u001b[43ma\u001b[49m\u001b[38;5;241;43m.\u001b[39;49m\u001b[43mindex\u001b[49m\u001b[43m(\u001b[49m\u001b[38;5;124;43m'\u001b[39;49m\u001b[38;5;124;43mk\u001b[39;49m\u001b[38;5;124;43m'\u001b[39;49m\u001b[43m)\u001b[49m\n",
      "\u001b[1;31mValueError\u001b[0m: substring not found"
     ]
    }
   ],
   "source": [
    "a.index('k') # 인덱스는 없을경우 오류"
   ]
  },
  {
   "cell_type": "code",
   "execution_count": 11,
   "id": "7e9d1eb6-f941-499a-978c-eed03dd0339e",
   "metadata": {},
   "outputs": [
    {
     "data": {
      "text/plain": [
       "'a,b,c,d'"
      ]
     },
     "execution_count": 11,
     "metadata": {},
     "output_type": "execute_result"
    }
   ],
   "source": [
    "','.join('abcd')"
   ]
  },
  {
   "cell_type": "code",
   "execution_count": 14,
   "id": "c6e7bc01-e2f8-4c83-acff-b69241427951",
   "metadata": {},
   "outputs": [
    {
     "data": {
      "text/plain": [
       "'abc,edf,안ㅕㄴㅇ'"
      ]
     },
     "execution_count": 14,
     "metadata": {},
     "output_type": "execute_result"
    }
   ],
   "source": [
    "','.join(['abc','edf','안ㅕㄴㅇ']                                                                                  )"
   ]
  },
  {
   "cell_type": "code",
   "execution_count": 19,
   "id": "3a3df27f-15f3-4d56-8e88-394b337b9839",
   "metadata": {},
   "outputs": [
    {
     "data": {
      "text/plain": [
       "'Young is too long'"
      ]
     },
     "execution_count": 19,
     "metadata": {},
     "output_type": "execute_result"
    }
   ],
   "source": [
    "a= \"Life is too long\"\n",
    "a.replace(\"Life\",\"Young\")"
   ]
  },
  {
   "cell_type": "code",
   "execution_count": 24,
   "id": "5cf634bf-b495-433d-8554-0328ed63c942",
   "metadata": {},
   "outputs": [
    {
     "data": {
      "text/plain": [
       "['Life', 'is', 'too', 'long']"
      ]
     },
     "execution_count": 24,
     "metadata": {},
     "output_type": "execute_result"
    }
   ],
   "source": [
    "a= \"Life,is,too,long\"\n",
    "a.split(sep=',')"
   ]
  },
  {
   "cell_type": "code",
   "execution_count": 28,
   "id": "d03791aa-e152-4c14-954e-17e3b730cf74",
   "metadata": {},
   "outputs": [
    {
     "ename": "IndentationError",
     "evalue": "unexpected indent (2859418725.py, line 4)",
     "output_type": "error",
     "traceback": [
      "\u001b[1;36m  Input \u001b[1;32mIn [28]\u001b[1;36m\u001b[0m\n\u001b[1;33m    print('----')\u001b[0m\n\u001b[1;37m    ^\u001b[0m\n\u001b[1;31mIndentationError\u001b[0m\u001b[1;31m:\u001b[0m unexpected indent\n"
     ]
    }
   ],
   "source": [
    "money = True\n",
    "if money:\n",
    "    print('taxi')\n",
    "     print('----')# 줄맞기가 안되있으면 오류가 뜸 "
   ]
  },
  {
   "cell_type": "code",
   "execution_count": 31,
   "id": "0287f55f-1dc6-4bdb-a640-42b341e937c1",
   "metadata": {},
   "outputs": [
    {
     "name": "stdout",
     "output_type": "stream",
     "text": [
      "taxi\n",
      "----\n"
     ]
    }
   ],
   "source": [
    "money = True\n",
    "if money:\n",
    "    print('taxi')\n",
    "    print('----') "
   ]
  },
  {
   "cell_type": "code",
   "execution_count": 36,
   "id": "d32324c2-db90-4d7e-81ce-c0fba112592b",
   "metadata": {},
   "outputs": [
    {
     "name": "stdout",
     "output_type": "stream",
     "text": [
      "taxi\n",
      "----\n"
     ]
    }
   ],
   "source": [
    "money = True\n",
    "if money:\n",
    "    print('taxi')\n",
    "    print('----') \n",
    "elif card:\n",
    "    print('수수료')\n",
    "else:\n",
    "    print('walk')"
   ]
  },
  {
   "cell_type": "code",
   "execution_count": 41,
   "id": "531b0f4e-907c-402b-9af8-309edd997e86",
   "metadata": {},
   "outputs": [
    {
     "ename": "IndentationError",
     "evalue": "expected an indented block (2006731953.py, line 3)",
     "output_type": "error",
     "traceback": [
      "\u001b[1;36m  Input \u001b[1;32mIn [41]\u001b[1;36m\u001b[0m\n\u001b[1;33m    else:\u001b[0m\n\u001b[1;37m    ^\u001b[0m\n\u001b[1;31mIndentationError\u001b[0m\u001b[1;31m:\u001b[0m expected an indented block\n"
     ]
    }
   ],
   "source": [
    "if 'money' in ['card','money']:\n",
    "    \n",
    "else:\n",
    "    print('카드를 꺼내라')"
   ]
  },
  {
   "cell_type": "code",
   "execution_count": 43,
   "id": "6e6b03de-c8d2-41f0-9ed3-cd8a9a1d565e",
   "metadata": {},
   "outputs": [],
   "source": [
    "if 'money' in ['card','money']:\n",
    "    pass #구조상 들어가야 되는곳을 건너뛸때 사용 \n",
    "else:\n",
    "    print('카드를 꺼내라')"
   ]
  },
  {
   "cell_type": "code",
   "execution_count": 45,
   "id": "be8b39eb-13f1-4069-97cb-d19a553d861a",
   "metadata": {},
   "outputs": [],
   "source": [
    "if 'money' in ['card','money']: pass #구조상 들어가야 되는곳을 건너뛸때 사용 \n",
    "else:print('카드를 꺼내라')"
   ]
  },
  {
   "cell_type": "code",
   "execution_count": 48,
   "id": "ff2e4c82-5799-4d2e-94cf-aec7c5ac61fa",
   "metadata": {},
   "outputs": [
    {
     "ename": "SyntaxError",
     "evalue": "invalid syntax (789296028.py, line 1)",
     "output_type": "error",
     "traceback": [
      "\u001b[1;36m  Input \u001b[1;32mIn [48]\u001b[1;36m\u001b[0m\n\u001b[1;33m    for i range(2,9):\u001b[0m\n\u001b[1;37m          ^\u001b[0m\n\u001b[1;31mSyntaxError\u001b[0m\u001b[1;31m:\u001b[0m invalid syntax\n"
     ]
    }
   ],
   "source": [
    "for i range(2,9):\n",
    "    for j in range(1,9):\n",
    "        print(i*j , end = \"단\")"
   ]
  },
  {
   "cell_type": "code",
   "execution_count": 55,
   "id": "a9883653-f9a8-46a2-9f57-d1b64fc78c63",
   "metadata": {},
   "outputs": [
    {
     "name": "stdout",
     "output_type": "stream",
     "text": [
      "-----------2단-----------\n",
      "2*1 =  2\n",
      "2*2 =  4\n",
      "2*3 =  6\n",
      "2*4 =  8\n",
      "2*5 = 10\n",
      "2*6 = 12\n",
      "2*7 = 14\n",
      "2*8 = 16\n",
      "2*9 = 18\n",
      "-----------3단-----------\n",
      "3*1 =  3\n",
      "3*2 =  6\n",
      "3*3 =  9\n",
      "3*4 = 12\n",
      "3*5 = 15\n",
      "3*6 = 18\n",
      "3*7 = 21\n",
      "3*8 = 24\n",
      "3*9 = 27\n",
      "-----------4단-----------\n",
      "4*1 =  4\n",
      "4*2 =  8\n",
      "4*3 = 12\n",
      "4*4 = 16\n",
      "4*5 = 20\n",
      "4*6 = 24\n",
      "4*7 = 28\n",
      "4*8 = 32\n",
      "4*9 = 36\n",
      "-----------5단-----------\n",
      "5*1 =  5\n",
      "5*2 = 10\n",
      "5*3 = 15\n",
      "5*4 = 20\n",
      "5*5 = 25\n",
      "5*6 = 30\n",
      "5*7 = 35\n",
      "5*8 = 40\n",
      "5*9 = 45\n",
      "-----------6단-----------\n",
      "6*1 =  6\n",
      "6*2 = 12\n",
      "6*3 = 18\n",
      "6*4 = 24\n",
      "6*5 = 30\n",
      "6*6 = 36\n",
      "6*7 = 42\n",
      "6*8 = 48\n",
      "6*9 = 54\n",
      "-----------7단-----------\n",
      "7*1 =  7\n",
      "7*2 = 14\n",
      "7*3 = 21\n",
      "7*4 = 28\n",
      "7*5 = 35\n",
      "7*6 = 42\n",
      "7*7 = 49\n",
      "7*8 = 56\n",
      "7*9 = 63\n",
      "-----------8단-----------\n",
      "8*1 =  8\n",
      "8*2 = 16\n",
      "8*3 = 24\n",
      "8*4 = 32\n",
      "8*5 = 40\n",
      "8*6 = 48\n",
      "8*7 = 56\n",
      "8*8 = 64\n",
      "8*9 = 72\n",
      "-----------9단-----------\n",
      "9*1 =  9\n",
      "9*2 = 18\n",
      "9*3 = 27\n",
      "9*4 = 36\n",
      "9*5 = 45\n",
      "9*6 = 54\n",
      "9*7 = 63\n",
      "9*8 = 72\n",
      "9*9 = 81\n"
     ]
    }
   ],
   "source": [
    "for i in range(2,10):\n",
    "    print(f'-----------{i}단-----------')\n",
    "    for j in range(1,10):        \n",
    "        print(f'{i}*{j} = {i*j:2}')"
   ]
  },
  {
   "cell_type": "code",
   "execution_count": 2,
   "id": "7af5fffd-d195-440c-956a-1fad444fdb72",
   "metadata": {},
   "outputs": [
    {
     "name": "stdout",
     "output_type": "stream",
     "text": [
      "1*2=2 1*3=3 1*4=4 1*5=5 1*6=6 1*7=7 1*8=8 1*9=9 2*2=4 2*3=6 2*4=8 2*5=10 2*6=12 2*7=14 2*8=16 2*9=18 3*2=6 3*3=9 3*4=12 3*5=15 3*6=18 3*7=21 3*8=24 3*9=27 4*2=8 4*3=12 4*4=16 4*5=20 4*6=24 4*7=28 4*8=32 4*9=36 5*2=10 5*3=15 5*4=20 5*5=25 5*6=30 5*7=35 5*8=40 5*9=45 6*2=12 6*3=18 6*4=24 6*5=30 6*6=36 6*7=42 6*8=48 6*9=54 7*2=14 7*3=21 7*4=28 7*5=35 7*6=42 7*7=49 7*8=56 7*9=63 8*2=16 8*3=24 8*4=32 8*5=40 8*6=48 8*7=56 8*8=64 8*9=72 9*2=18 9*3=27 9*4=36 9*5=45 9*6=54 9*7=63 9*8=72 9*9=81 "
     ]
    }
   ],
   "source": [
    "for i in range(1,10):\n",
    "    for j in range(2,10):\n",
    "        print(f'{i}*{j}={i*j}',end=' ')"
   ]
  },
  {
   "cell_type": "code",
   "execution_count": null,
   "id": "73dbe2e7-ad42-4d8e-9655-83761040c0d4",
   "metadata": {},
   "outputs": [],
   "source": [
    "rank."
   ]
  }
 ],
 "metadata": {
  "kernelspec": {
   "display_name": "Python 3 (ipykernel)",
   "language": "python",
   "name": "python3"
  },
  "language_info": {
   "codemirror_mode": {
    "name": "ipython",
    "version": 3
   },
   "file_extension": ".py",
   "mimetype": "text/x-python",
   "name": "python",
   "nbconvert_exporter": "python",
   "pygments_lexer": "ipython3",
   "version": "3.9.12"
  }
 },
 "nbformat": 4,
 "nbformat_minor": 5
}
